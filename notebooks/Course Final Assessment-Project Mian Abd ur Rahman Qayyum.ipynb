{
 "cells": [
  {
   "cell_type": "code",
   "execution_count": 1,
   "id": "07ab2d4d",
   "metadata": {
    "colab": {
     "base_uri": "https://localhost:8080/",
     "height": 339
    },
    "executionInfo": {
     "elapsed": 1808,
     "status": "error",
     "timestamp": 1749155571752,
     "user": {
      "displayName": "AbdurRahman Qayyum",
      "userId": "01981956120216210560"
     },
     "user_tz": -300
    },
    "id": "07ab2d4d",
    "outputId": "e7762150-5852-43d3-dcf5-c179d4d72443"
   },
   "outputs": [
    {
     "ename": "FileNotFoundError",
     "evalue": "[Errno 2] No such file or directory: 'VehicleFuelCO2.csv'",
     "output_type": "error",
     "traceback": [
      "\u001b[0;31m---------------------------------------------------------------------------\u001b[0m",
      "\u001b[0;31mFileNotFoundError\u001b[0m                         Traceback (most recent call last)",
      "\u001b[0;32m<ipython-input-1-9885c303f129>\u001b[0m in \u001b[0;36m<cell line: 0>\u001b[0;34m()\u001b[0m\n\u001b[1;32m      5\u001b[0m \u001b[0mget_ipython\u001b[0m\u001b[0;34m(\u001b[0m\u001b[0;34m)\u001b[0m\u001b[0;34m.\u001b[0m\u001b[0mrun_line_magic\u001b[0m\u001b[0;34m(\u001b[0m\u001b[0;34m'matplotlib'\u001b[0m\u001b[0;34m,\u001b[0m \u001b[0;34m'inline'\u001b[0m\u001b[0;34m)\u001b[0m\u001b[0;34m\u001b[0m\u001b[0;34m\u001b[0m\u001b[0m\n\u001b[1;32m      6\u001b[0m \u001b[0;31m# file was uploaded in Jupyter notebook\u001b[0m\u001b[0;34m\u001b[0m\u001b[0;34m\u001b[0m\u001b[0m\n\u001b[0;32m----> 7\u001b[0;31m \u001b[0mdf\u001b[0m \u001b[0;34m=\u001b[0m\u001b[0mpd\u001b[0m\u001b[0;34m.\u001b[0m\u001b[0mread_csv\u001b[0m\u001b[0;34m(\u001b[0m\u001b[0;34m'VehicleFuelCO2.csv'\u001b[0m\u001b[0;34m)\u001b[0m\u001b[0;34m\u001b[0m\u001b[0;34m\u001b[0m\u001b[0m\n\u001b[0m\u001b[1;32m      8\u001b[0m \u001b[0mdf\u001b[0m\u001b[0;34m.\u001b[0m\u001b[0mhead\u001b[0m\u001b[0;34m(\u001b[0m\u001b[0;34m)\u001b[0m\u001b[0;34m\u001b[0m\u001b[0;34m\u001b[0m\u001b[0m\n",
      "\u001b[0;32m/usr/local/lib/python3.11/dist-packages/pandas/io/parsers/readers.py\u001b[0m in \u001b[0;36mread_csv\u001b[0;34m(filepath_or_buffer, sep, delimiter, header, names, index_col, usecols, dtype, engine, converters, true_values, false_values, skipinitialspace, skiprows, skipfooter, nrows, na_values, keep_default_na, na_filter, verbose, skip_blank_lines, parse_dates, infer_datetime_format, keep_date_col, date_parser, date_format, dayfirst, cache_dates, iterator, chunksize, compression, thousands, decimal, lineterminator, quotechar, quoting, doublequote, escapechar, comment, encoding, encoding_errors, dialect, on_bad_lines, delim_whitespace, low_memory, memory_map, float_precision, storage_options, dtype_backend)\u001b[0m\n\u001b[1;32m   1024\u001b[0m     \u001b[0mkwds\u001b[0m\u001b[0;34m.\u001b[0m\u001b[0mupdate\u001b[0m\u001b[0;34m(\u001b[0m\u001b[0mkwds_defaults\u001b[0m\u001b[0;34m)\u001b[0m\u001b[0;34m\u001b[0m\u001b[0;34m\u001b[0m\u001b[0m\n\u001b[1;32m   1025\u001b[0m \u001b[0;34m\u001b[0m\u001b[0m\n\u001b[0;32m-> 1026\u001b[0;31m     \u001b[0;32mreturn\u001b[0m \u001b[0m_read\u001b[0m\u001b[0;34m(\u001b[0m\u001b[0mfilepath_or_buffer\u001b[0m\u001b[0;34m,\u001b[0m \u001b[0mkwds\u001b[0m\u001b[0;34m)\u001b[0m\u001b[0;34m\u001b[0m\u001b[0;34m\u001b[0m\u001b[0m\n\u001b[0m\u001b[1;32m   1027\u001b[0m \u001b[0;34m\u001b[0m\u001b[0m\n\u001b[1;32m   1028\u001b[0m \u001b[0;34m\u001b[0m\u001b[0m\n",
      "\u001b[0;32m/usr/local/lib/python3.11/dist-packages/pandas/io/parsers/readers.py\u001b[0m in \u001b[0;36m_read\u001b[0;34m(filepath_or_buffer, kwds)\u001b[0m\n\u001b[1;32m    618\u001b[0m \u001b[0;34m\u001b[0m\u001b[0m\n\u001b[1;32m    619\u001b[0m     \u001b[0;31m# Create the parser.\u001b[0m\u001b[0;34m\u001b[0m\u001b[0;34m\u001b[0m\u001b[0m\n\u001b[0;32m--> 620\u001b[0;31m     \u001b[0mparser\u001b[0m \u001b[0;34m=\u001b[0m \u001b[0mTextFileReader\u001b[0m\u001b[0;34m(\u001b[0m\u001b[0mfilepath_or_buffer\u001b[0m\u001b[0;34m,\u001b[0m \u001b[0;34m**\u001b[0m\u001b[0mkwds\u001b[0m\u001b[0;34m)\u001b[0m\u001b[0;34m\u001b[0m\u001b[0;34m\u001b[0m\u001b[0m\n\u001b[0m\u001b[1;32m    621\u001b[0m \u001b[0;34m\u001b[0m\u001b[0m\n\u001b[1;32m    622\u001b[0m     \u001b[0;32mif\u001b[0m \u001b[0mchunksize\u001b[0m \u001b[0;32mor\u001b[0m \u001b[0miterator\u001b[0m\u001b[0;34m:\u001b[0m\u001b[0;34m\u001b[0m\u001b[0;34m\u001b[0m\u001b[0m\n",
      "\u001b[0;32m/usr/local/lib/python3.11/dist-packages/pandas/io/parsers/readers.py\u001b[0m in \u001b[0;36m__init__\u001b[0;34m(self, f, engine, **kwds)\u001b[0m\n\u001b[1;32m   1618\u001b[0m \u001b[0;34m\u001b[0m\u001b[0m\n\u001b[1;32m   1619\u001b[0m         \u001b[0mself\u001b[0m\u001b[0;34m.\u001b[0m\u001b[0mhandles\u001b[0m\u001b[0;34m:\u001b[0m \u001b[0mIOHandles\u001b[0m \u001b[0;34m|\u001b[0m \u001b[0;32mNone\u001b[0m \u001b[0;34m=\u001b[0m \u001b[0;32mNone\u001b[0m\u001b[0;34m\u001b[0m\u001b[0;34m\u001b[0m\u001b[0m\n\u001b[0;32m-> 1620\u001b[0;31m         \u001b[0mself\u001b[0m\u001b[0;34m.\u001b[0m\u001b[0m_engine\u001b[0m \u001b[0;34m=\u001b[0m \u001b[0mself\u001b[0m\u001b[0;34m.\u001b[0m\u001b[0m_make_engine\u001b[0m\u001b[0;34m(\u001b[0m\u001b[0mf\u001b[0m\u001b[0;34m,\u001b[0m \u001b[0mself\u001b[0m\u001b[0;34m.\u001b[0m\u001b[0mengine\u001b[0m\u001b[0;34m)\u001b[0m\u001b[0;34m\u001b[0m\u001b[0;34m\u001b[0m\u001b[0m\n\u001b[0m\u001b[1;32m   1621\u001b[0m \u001b[0;34m\u001b[0m\u001b[0m\n\u001b[1;32m   1622\u001b[0m     \u001b[0;32mdef\u001b[0m \u001b[0mclose\u001b[0m\u001b[0;34m(\u001b[0m\u001b[0mself\u001b[0m\u001b[0;34m)\u001b[0m \u001b[0;34m->\u001b[0m \u001b[0;32mNone\u001b[0m\u001b[0;34m:\u001b[0m\u001b[0;34m\u001b[0m\u001b[0;34m\u001b[0m\u001b[0m\n",
      "\u001b[0;32m/usr/local/lib/python3.11/dist-packages/pandas/io/parsers/readers.py\u001b[0m in \u001b[0;36m_make_engine\u001b[0;34m(self, f, engine)\u001b[0m\n\u001b[1;32m   1878\u001b[0m                 \u001b[0;32mif\u001b[0m \u001b[0;34m\"b\"\u001b[0m \u001b[0;32mnot\u001b[0m \u001b[0;32min\u001b[0m \u001b[0mmode\u001b[0m\u001b[0;34m:\u001b[0m\u001b[0;34m\u001b[0m\u001b[0;34m\u001b[0m\u001b[0m\n\u001b[1;32m   1879\u001b[0m                     \u001b[0mmode\u001b[0m \u001b[0;34m+=\u001b[0m \u001b[0;34m\"b\"\u001b[0m\u001b[0;34m\u001b[0m\u001b[0;34m\u001b[0m\u001b[0m\n\u001b[0;32m-> 1880\u001b[0;31m             self.handles = get_handle(\n\u001b[0m\u001b[1;32m   1881\u001b[0m                 \u001b[0mf\u001b[0m\u001b[0;34m,\u001b[0m\u001b[0;34m\u001b[0m\u001b[0;34m\u001b[0m\u001b[0m\n\u001b[1;32m   1882\u001b[0m                 \u001b[0mmode\u001b[0m\u001b[0;34m,\u001b[0m\u001b[0;34m\u001b[0m\u001b[0;34m\u001b[0m\u001b[0m\n",
      "\u001b[0;32m/usr/local/lib/python3.11/dist-packages/pandas/io/common.py\u001b[0m in \u001b[0;36mget_handle\u001b[0;34m(path_or_buf, mode, encoding, compression, memory_map, is_text, errors, storage_options)\u001b[0m\n\u001b[1;32m    871\u001b[0m         \u001b[0;32mif\u001b[0m \u001b[0mioargs\u001b[0m\u001b[0;34m.\u001b[0m\u001b[0mencoding\u001b[0m \u001b[0;32mand\u001b[0m \u001b[0;34m\"b\"\u001b[0m \u001b[0;32mnot\u001b[0m \u001b[0;32min\u001b[0m \u001b[0mioargs\u001b[0m\u001b[0;34m.\u001b[0m\u001b[0mmode\u001b[0m\u001b[0;34m:\u001b[0m\u001b[0;34m\u001b[0m\u001b[0;34m\u001b[0m\u001b[0m\n\u001b[1;32m    872\u001b[0m             \u001b[0;31m# Encoding\u001b[0m\u001b[0;34m\u001b[0m\u001b[0;34m\u001b[0m\u001b[0m\n\u001b[0;32m--> 873\u001b[0;31m             handle = open(\n\u001b[0m\u001b[1;32m    874\u001b[0m                 \u001b[0mhandle\u001b[0m\u001b[0;34m,\u001b[0m\u001b[0;34m\u001b[0m\u001b[0;34m\u001b[0m\u001b[0m\n\u001b[1;32m    875\u001b[0m                 \u001b[0mioargs\u001b[0m\u001b[0;34m.\u001b[0m\u001b[0mmode\u001b[0m\u001b[0;34m,\u001b[0m\u001b[0;34m\u001b[0m\u001b[0;34m\u001b[0m\u001b[0m\n",
      "\u001b[0;31mFileNotFoundError\u001b[0m: [Errno 2] No such file or directory: 'VehicleFuelCO2.csv'"
     ]
    }
   ],
   "source": [
    "import matplotlib.pyplot as plt\n",
    "import pandas as pd\n",
    "import pylab as pl\n",
    "import numpy as np\n",
    "%matplotlib inline\n",
    "# file was uploaded in Jupyter notebook\n",
    "df =pd.read_csv('VehicleFuelCO2.csv')\n",
    "df.head()"
   ]
  },
  {
   "cell_type": "code",
   "execution_count": null,
   "id": "894fd9af",
   "metadata": {
    "executionInfo": {
     "elapsed": 3,
     "status": "aborted",
     "timestamp": 1749155571762,
     "user": {
      "displayName": "AbdurRahman Qayyum",
      "userId": "01981956120216210560"
     },
     "user_tz": -300
    },
    "id": "894fd9af"
   },
   "outputs": [],
   "source": [
    "# Using capital X just to emphasize that feature set is of multiple independent variables\n",
    "\n",
    "X = df[['FUELCONSUMPTION_COMB','CYLINDERS']].values #.astype(float)\n",
    "y = df[['CO2EMISSIONS']].values\n",
    "\n",
    "from sklearn.model_selection import train_test_split\n",
    "#random_state=any non-negative gives the same train and test sets across different executions, if to re-produce these results\n",
    "\n",
    "trn_X, tst_X, trn_y, tst_y = train_test_split( X, y, test_size=0.2, random_state=2)\n",
    "\n",
    "print ('Train set:', trn_X.shape,  trn_y.shape)\n",
    "print ('Test set:', tst_X.shape,  tst_y.shape)"
   ]
  },
  {
   "cell_type": "code",
   "execution_count": null,
   "id": "a645285b",
   "metadata": {
    "executionInfo": {
     "elapsed": 2071,
     "status": "aborted",
     "timestamp": 1749155571796,
     "user": {
      "displayName": "AbdurRahman Qayyum",
      "userId": "01981956120216210560"
     },
     "user_tz": -300
    },
    "id": "a645285b"
   },
   "outputs": [],
   "source": [
    "plt.scatter(trn_X[:, 0], trn_y[:],  color='blue')\n",
    "plt.xlabel(\"FUELCONSUMPTION_COMB, CYLINDERS\")\n",
    "plt.ylabel(\"Emission\")\n",
    "plt.show()"
   ]
  },
  {
   "cell_type": "code",
   "execution_count": null,
   "id": "3eac77c5",
   "metadata": {
    "executionInfo": {
     "elapsed": 2070,
     "status": "aborted",
     "timestamp": 1749155571800,
     "user": {
      "displayName": "AbdurRahman Qayyum",
      "userId": "01981956120216210560"
     },
     "user_tz": -300
    },
    "id": "3eac77c5"
   },
   "outputs": [],
   "source": [
    "from sklearn import linear_model\n",
    "\n",
    "regr = linear_model.LinearRegression()\n",
    "\n",
    "regr.fit(trn_X, trn_y)\n",
    "\n",
    "# The Intercept and coefficients\n",
    "print ('Intercept: ',regr.intercept_)\n",
    "print ('Coefficients: ', regr.coef_)"
   ]
  },
  {
   "cell_type": "code",
   "execution_count": null,
   "id": "899133eb",
   "metadata": {
    "executionInfo": {
     "elapsed": 2069,
     "status": "aborted",
     "timestamp": 1749155571802,
     "user": {
      "displayName": "AbdurRahman Qayyum",
      "userId": "01981956120216210560"
     },
     "user_tz": -300
    },
    "id": "899133eb"
   },
   "outputs": [],
   "source": [
    "from sklearn.metrics import r2_score\n",
    "y_hat= regr.predict(tst_X)\n",
    "\n",
    "print(\"\\nMean absolute error: %.2f\" % np.mean(np.absolute(y_hat - tst_y)))\n",
    "print(\"Mean Squared Error (MSE) : %.2f\" % np.mean((y_hat - tst_y) ** 2))\n",
    "print(\"R2-score: %.2f\" % r2_score(tst_y , y_hat) )\n"
   ]
  },
  {
   "cell_type": "code",
   "execution_count": null,
   "id": "fbff8dc0",
   "metadata": {
    "executionInfo": {
     "elapsed": 2084,
     "status": "aborted",
     "timestamp": 1749155571818,
     "user": {
      "displayName": "AbdurRahman Qayyum",
      "userId": "01981956120216210560"
     },
     "user_tz": -300
    },
    "id": "fbff8dc0"
   },
   "outputs": [],
   "source": [
    "#Output for this model =\n",
    "#Train set: (853, 2) (853, 1)\n",
    "#Test set: (214, 2) (214, 1)\n",
    "#Intercept:  [55.21410811]\n",
    "#Coefficients:  [[10.32992458 13.97195223]]\n",
    "#Mean absolute error: 16.50\n",
    "#Mean Squared Error (MSE) : 515.45\n",
    "#R2-score: 0.89"
   ]
  },
  {
   "cell_type": "code",
   "execution_count": null,
   "id": "a2e46577",
   "metadata": {
    "executionInfo": {
     "elapsed": 2135,
     "status": "aborted",
     "timestamp": 1749155571872,
     "user": {
      "displayName": "AbdurRahman Qayyum",
      "userId": "01981956120216210560"
     },
     "user_tz": -300
    },
    "id": "a2e46577"
   },
   "outputs": [],
   "source": [
    "X = df[['ENGINESIZE','CYLINDERS']].values #.astype(float)\n",
    "y = df[['CO2EMISSIONS']].values\n",
    "\n",
    "from sklearn.model_selection import train_test_split\n",
    "#random_state=any non-negative gives the same train and test sets across different executions, if to re-produce these results\n",
    "\n",
    "trn_X, tst_X, trn_y, tst_y = train_test_split( X, y, test_size=0.2, random_state=2)\n",
    "\n",
    "print ('Train set:', trn_X.shape,  trn_y.shape)\n",
    "print ('Test set:', tst_X.shape,  tst_y.shape)\n",
    "plt.scatter(trn_X[:, 0], trn_y[:],  color='blue')\n",
    "plt.xlabel(\"Engine size, CYLINDERS\")\n",
    "plt.ylabel(\"Emission\")\n",
    "plt.show()\n",
    "from sklearn import linear_model\n",
    "\n",
    "regr = linear_model.LinearRegression()\n",
    "\n",
    "regr.fit(trn_X, trn_y)\n",
    "\n",
    "# The Intercept and coefficients\n",
    "print ('Intercept: ',regr.intercept_)\n",
    "print ('Coefficients: ', regr.coef_)\n",
    "from sklearn.metrics import r2_score\n",
    "y_hat= regr.predict(tst_X)\n",
    "\n",
    "print(\"\\nMean absolute error: %.2f\" % np.mean(np.absolute(y_hat - tst_y)))\n",
    "print(\"Mean Squared Error (MSE) : %.2f\" % np.mean((y_hat - tst_y) ** 2))\n",
    "print(\"R2-score: %.2f\" % r2_score(tst_y , y_hat) )\n"
   ]
  },
  {
   "cell_type": "code",
   "execution_count": null,
   "id": "458a4b2a",
   "metadata": {
    "executionInfo": {
     "elapsed": 2138,
     "status": "aborted",
     "timestamp": 1749155571878,
     "user": {
      "displayName": "AbdurRahman Qayyum",
      "userId": "01981956120216210560"
     },
     "user_tz": -300
    },
    "id": "458a4b2a"
   },
   "outputs": [],
   "source": [
    "#Output for this model =\n",
    "#Train set: (853, 2) (853, 1)\n",
    "#Test set: (214, 2) (214, 1)\n",
    "#Intercept:  [109.66451913]\n",
    "#Coefficients:  [[28.47377984  8.85453035]]\n",
    "\n",
    "#Mean absolute error: 22.94\n",
    "#Mean Squared Error (MSE) : 915.66\n",
    "#R2-score: 0.80"
   ]
  },
  {
   "cell_type": "code",
   "execution_count": null,
   "id": "2e48c58b",
   "metadata": {
    "executionInfo": {
     "elapsed": 2138,
     "status": "aborted",
     "timestamp": 1749155571880,
     "user": {
      "displayName": "AbdurRahman Qayyum",
      "userId": "01981956120216210560"
     },
     "user_tz": -300
    },
    "id": "2e48c58b"
   },
   "outputs": [],
   "source": [
    "X = df[['ENGINESIZE','FUELCONSUMPTION_COMB']].values #.astype(float)\n",
    "y = df[['CO2EMISSIONS']].values\n",
    "\n",
    "from sklearn.model_selection import train_test_split\n",
    "#random_state=any non-negative gives the same train and test sets across different executions, if to re-produce these results\n",
    "\n",
    "trn_X, tst_X, trn_y, tst_y = train_test_split( X, y, test_size=0.2, random_state=2)\n",
    "\n",
    "print ('Train set:', trn_X.shape,  trn_y.shape)\n",
    "print ('Test set:', tst_X.shape,  tst_y.shape)\n",
    "plt.scatter(trn_X[:, 0], trn_y[:],  color='blue')\n",
    "plt.xlabel(\"Engine size, FUELCONSUMPTION_COMB\")\n",
    "plt.ylabel(\"Emission\")\n",
    "plt.show()\n",
    "from sklearn import linear_model\n",
    "\n",
    "regr = linear_model.LinearRegression()\n",
    "\n",
    "regr.fit(trn_X, trn_y)\n",
    "\n",
    "# The Intercept and coefficients\n",
    "print ('Intercept: ',regr.intercept_)\n",
    "print ('Coefficients: ', regr.coef_)\n",
    "from sklearn.metrics import r2_score\n",
    "y_hat= regr.predict(tst_X)\n",
    "\n",
    "print(\"\\nMean absolute error: %.2f\" % np.mean(np.absolute(y_hat - tst_y)))\n",
    "print(\"Mean Squared Error (MSE) : %.2f\" % np.mean((y_hat - tst_y) ** 2))\n",
    "print(\"R2-score: %.2f\" % r2_score(tst_y , y_hat) )\n"
   ]
  },
  {
   "cell_type": "code",
   "execution_count": null,
   "id": "01c4ede7",
   "metadata": {
    "executionInfo": {
     "elapsed": 2139,
     "status": "aborted",
     "timestamp": 1749155571882,
     "user": {
      "displayName": "AbdurRahman Qayyum",
      "userId": "01981956120216210560"
     },
     "user_tz": -300
    },
    "id": "01c4ede7"
   },
   "outputs": [],
   "source": [
    "#Output for this model =\n",
    "#Train set: (853, 2) (853, 1)\n",
    "#Test set: (214, 2) (214, 1)\n",
    "#Intercept:  [81.47936613]\n",
    "#Coefficients:  [[19.60244185  9.39270086]]\n",
    "\n",
    "\n",
    "#Mean absolute error: 16.81\n",
    "#Mean Squared Error (MSE) : 542.08\n",
    "#R2-score: 0.88\n",
    "\n"
   ]
  },
  {
   "cell_type": "code",
   "execution_count": null,
   "id": "73bceb3e",
   "metadata": {
    "executionInfo": {
     "elapsed": 2141,
     "status": "aborted",
     "timestamp": 1749155571884,
     "user": {
      "displayName": "AbdurRahman Qayyum",
      "userId": "01981956120216210560"
     },
     "user_tz": -300
    },
    "id": "73bceb3e"
   },
   "outputs": [],
   "source": [
    "#Best model using 2 features is [Cylinders, FUELCONSUMPTION_COMB]\n",
    "#Output is =\n",
    "#Mean absolute error: 16.50\n",
    "#Mean Squared Error (MSE) : 515.45\n",
    "#R2-score: 0.89"
   ]
  },
  {
   "cell_type": "code",
   "execution_count": null,
   "id": "d7be636d",
   "metadata": {
    "executionInfo": {
     "elapsed": 2141,
     "status": "aborted",
     "timestamp": 1749155571885,
     "user": {
      "displayName": "AbdurRahman Qayyum",
      "userId": "01981956120216210560"
     },
     "user_tz": -300
    },
    "id": "d7be636d"
   },
   "outputs": [],
   "source": [
    "#Output from Lecture-14 using 3 features =['ENGINESIZE','CYLINDERS','FUELCONSUMPTION_COMB']\n",
    "#Mean absolute error: 14.50\n",
    "#Mean Squared Error (MSE) : 408.38\n",
    "#R2-score: 0.89"
   ]
  },
  {
   "cell_type": "code",
   "execution_count": null,
   "id": "1f4c89f3",
   "metadata": {
    "executionInfo": {
     "elapsed": 2149,
     "status": "aborted",
     "timestamp": 1749155571893,
     "user": {
      "displayName": "AbdurRahman Qayyum",
      "userId": "01981956120216210560"
     },
     "user_tz": -300
    },
    "id": "1f4c89f3"
   },
   "outputs": [],
   "source": []
  }
 ],
 "metadata": {
  "colab": {
   "provenance": []
  },
  "kernelspec": {
   "display_name": "Python 3 (ipykernel)",
   "language": "python",
   "name": "python3"
  },
  "language_info": {
   "codemirror_mode": {
    "name": "ipython",
    "version": 3
   },
   "file_extension": ".py",
   "mimetype": "text/x-python",
   "name": "python",
   "nbconvert_exporter": "python",
   "pygments_lexer": "ipython3",
   "version": "3.11.5"
  }
 },
 "nbformat": 4,
 "nbformat_minor": 5
}
